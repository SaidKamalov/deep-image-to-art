{
 "cells": [
  {
   "cell_type": "code",
   "execution_count": 1,
   "outputs": [],
   "source": [
    "from models.ugatit_model_lightning import UGATIT_Lightning\n",
    "import pytorch_lightning as pl\n",
    "from src.prepare_dataset import prepare_dataset\n",
    "\n",
    "import warnings\n",
    "\n",
    "warnings.filterwarnings(\"ignore\")"
   ],
   "metadata": {
    "collapsed": false,
    "ExecuteTime": {
     "end_time": "2023-11-26T12:02:20.250705Z",
     "start_time": "2023-11-26T12:02:18.983917Z"
    }
   }
  },
  {
   "cell_type": "code",
   "execution_count": null,
   "outputs": [],
   "source": [
    "epochs = 100"
   ],
   "metadata": {
    "collapsed": false
   }
  },
  {
   "cell_type": "code",
   "execution_count": 2,
   "outputs": [],
   "source": [
    "dm = prepare_dataset(dataset_name=\"small_test_dataset\", train_batch_size=1)\n",
    "model = UGATIT_Lightning(img_size=dm.width, light=True, print_freq=1, epochs=epochs)"
   ],
   "metadata": {
    "collapsed": false,
    "ExecuteTime": {
     "end_time": "2023-11-26T12:02:20.644742Z",
     "start_time": "2023-11-26T12:02:20.251868Z"
    }
   }
  },
  {
   "cell_type": "code",
   "execution_count": 3,
   "outputs": [
    {
     "name": "stderr",
     "output_type": "stream",
     "text": [
      "GPU available: True (mps), used: True\n",
      "TPU available: False, using: 0 TPU cores\n",
      "IPU available: False, using: 0 IPUs\n",
      "HPU available: False, using: 0 HPUs\n",
      "Missing logger folder: /Users/levrekhlov/DataspellProjects/deep-image-to-art/experiments/UGATIT_lightning/lightning_logs\n",
      "\n",
      "  | Name     | Type              | Params\n",
      "-----------------------------------------------\n",
      "0 | genA2B   | ResnetGenerator   | 10.6 M\n",
      "1 | genB2A   | ResnetGenerator   | 10.6 M\n",
      "2 | disGA    | Discriminator     | 53.1 M\n",
      "3 | disGB    | Discriminator     | 53.1 M\n",
      "4 | disLA    | Discriminator     | 3.3 M \n",
      "5 | disLB    | Discriminator     | 3.3 M \n",
      "6 | L1_loss  | L1Loss            | 0     \n",
      "7 | MSE_loss | MSELoss           | 0     \n",
      "8 | BCE_loss | BCEWithLogitsLoss | 0     \n",
      "-----------------------------------------------\n",
      "134 M     Trainable params\n",
      "0         Non-trainable params\n",
      "134 M     Total params\n",
      "536.085   Total estimated model params size (MB)\n"
     ]
    },
    {
     "data": {
      "text/plain": "Sanity Checking: 0it [00:00, ?it/s]",
      "application/vnd.jupyter.widget-view+json": {
       "version_major": 2,
       "version_minor": 0,
       "model_id": "c73ef81cf8ab4a70a1bfb51f035e7fe6"
      }
     },
     "metadata": {},
     "output_type": "display_data"
    },
    {
     "data": {
      "text/plain": "Training: 0it [00:00, ?it/s]",
      "application/vnd.jupyter.widget-view+json": {
       "version_major": 2,
       "version_minor": 0,
       "model_id": "c71636beb79a4c48ba1361cdfe5060bd"
      }
     },
     "metadata": {},
     "output_type": "display_data"
    },
    {
     "data": {
      "text/plain": "Validation: 0it [00:00, ?it/s]",
      "application/vnd.jupyter.widget-view+json": {
       "version_major": 2,
       "version_minor": 0,
       "model_id": "cd508611915a4d248cc5a377396d2dab"
      }
     },
     "metadata": {},
     "output_type": "display_data"
    },
    {
     "data": {
      "text/plain": "Validation: 0it [00:00, ?it/s]",
      "application/vnd.jupyter.widget-view+json": {
       "version_major": 2,
       "version_minor": 0,
       "model_id": "abc304b277a04a6eb9422f511cae8797"
      }
     },
     "metadata": {},
     "output_type": "display_data"
    },
    {
     "data": {
      "text/plain": "Validation: 0it [00:00, ?it/s]",
      "application/vnd.jupyter.widget-view+json": {
       "version_major": 2,
       "version_minor": 0,
       "model_id": "ef09590db58f4df29ae63c6dd803e19d"
      }
     },
     "metadata": {},
     "output_type": "display_data"
    },
    {
     "data": {
      "text/plain": "Validation: 0it [00:00, ?it/s]",
      "application/vnd.jupyter.widget-view+json": {
       "version_major": 2,
       "version_minor": 0,
       "model_id": "77a30938ae964fc4957ed10bcfee554a"
      }
     },
     "metadata": {},
     "output_type": "display_data"
    },
    {
     "data": {
      "text/plain": "Validation: 0it [00:00, ?it/s]",
      "application/vnd.jupyter.widget-view+json": {
       "version_major": 2,
       "version_minor": 0,
       "model_id": "cbafd1f67fbc4344a75a090fddbf2630"
      }
     },
     "metadata": {},
     "output_type": "display_data"
    },
    {
     "data": {
      "text/plain": "Validation: 0it [00:00, ?it/s]",
      "application/vnd.jupyter.widget-view+json": {
       "version_major": 2,
       "version_minor": 0,
       "model_id": "03acaf8124a34eb9999b80beef214a42"
      }
     },
     "metadata": {},
     "output_type": "display_data"
    },
    {
     "data": {
      "text/plain": "Validation: 0it [00:00, ?it/s]",
      "application/vnd.jupyter.widget-view+json": {
       "version_major": 2,
       "version_minor": 0,
       "model_id": "463ea1d3116c42a99341c32d985394f0"
      }
     },
     "metadata": {},
     "output_type": "display_data"
    },
    {
     "data": {
      "text/plain": "Validation: 0it [00:00, ?it/s]",
      "application/vnd.jupyter.widget-view+json": {
       "version_major": 2,
       "version_minor": 0,
       "model_id": "2286567ebbd048eb844ff91695d0d707"
      }
     },
     "metadata": {},
     "output_type": "display_data"
    },
    {
     "data": {
      "text/plain": "Validation: 0it [00:00, ?it/s]",
      "application/vnd.jupyter.widget-view+json": {
       "version_major": 2,
       "version_minor": 0,
       "model_id": "fd8a6279450b492a8185a0380987103d"
      }
     },
     "metadata": {},
     "output_type": "display_data"
    },
    {
     "data": {
      "text/plain": "Validation: 0it [00:00, ?it/s]",
      "application/vnd.jupyter.widget-view+json": {
       "version_major": 2,
       "version_minor": 0,
       "model_id": "1210a0b776c44398859e169694b17efb"
      }
     },
     "metadata": {},
     "output_type": "display_data"
    },
    {
     "data": {
      "text/plain": "Validation: 0it [00:00, ?it/s]",
      "application/vnd.jupyter.widget-view+json": {
       "version_major": 2,
       "version_minor": 0,
       "model_id": "1e5e625f1630433abf3a28b82ce3c5ec"
      }
     },
     "metadata": {},
     "output_type": "display_data"
    },
    {
     "data": {
      "text/plain": "Validation: 0it [00:00, ?it/s]",
      "application/vnd.jupyter.widget-view+json": {
       "version_major": 2,
       "version_minor": 0,
       "model_id": "06fba9c022c543b0a701e79576af99e8"
      }
     },
     "metadata": {},
     "output_type": "display_data"
    },
    {
     "data": {
      "text/plain": "Validation: 0it [00:00, ?it/s]",
      "application/vnd.jupyter.widget-view+json": {
       "version_major": 2,
       "version_minor": 0,
       "model_id": "c42b7da2b93f478a8ecbacc376fb5ffe"
      }
     },
     "metadata": {},
     "output_type": "display_data"
    },
    {
     "data": {
      "text/plain": "Validation: 0it [00:00, ?it/s]",
      "application/vnd.jupyter.widget-view+json": {
       "version_major": 2,
       "version_minor": 0,
       "model_id": "776eaa5ed3d54550b7e4cde93e7b35e4"
      }
     },
     "metadata": {},
     "output_type": "display_data"
    },
    {
     "data": {
      "text/plain": "Validation: 0it [00:00, ?it/s]",
      "application/vnd.jupyter.widget-view+json": {
       "version_major": 2,
       "version_minor": 0,
       "model_id": "209125a1da3747cf9b193d57a53147a6"
      }
     },
     "metadata": {},
     "output_type": "display_data"
    },
    {
     "data": {
      "text/plain": "Validation: 0it [00:00, ?it/s]",
      "application/vnd.jupyter.widget-view+json": {
       "version_major": 2,
       "version_minor": 0,
       "model_id": "6e9c0334081a4cb28ef4faecb3f56d7c"
      }
     },
     "metadata": {},
     "output_type": "display_data"
    },
    {
     "data": {
      "text/plain": "Validation: 0it [00:00, ?it/s]",
      "application/vnd.jupyter.widget-view+json": {
       "version_major": 2,
       "version_minor": 0,
       "model_id": "ac6830c5300e43e58000395c31e8cf29"
      }
     },
     "metadata": {},
     "output_type": "display_data"
    },
    {
     "data": {
      "text/plain": "Validation: 0it [00:00, ?it/s]",
      "application/vnd.jupyter.widget-view+json": {
       "version_major": 2,
       "version_minor": 0,
       "model_id": "b5404fceafcd45dd8b78f667991b8fc1"
      }
     },
     "metadata": {},
     "output_type": "display_data"
    },
    {
     "data": {
      "text/plain": "Validation: 0it [00:00, ?it/s]",
      "application/vnd.jupyter.widget-view+json": {
       "version_major": 2,
       "version_minor": 0,
       "model_id": "2fb85f5fed1c4d15b20661caf1e93fac"
      }
     },
     "metadata": {},
     "output_type": "display_data"
    },
    {
     "data": {
      "text/plain": "Validation: 0it [00:00, ?it/s]",
      "application/vnd.jupyter.widget-view+json": {
       "version_major": 2,
       "version_minor": 0,
       "model_id": "2b164e274b9d40b49734e7c96a4177e8"
      }
     },
     "metadata": {},
     "output_type": "display_data"
    },
    {
     "data": {
      "text/plain": "Validation: 0it [00:00, ?it/s]",
      "application/vnd.jupyter.widget-view+json": {
       "version_major": 2,
       "version_minor": 0,
       "model_id": "1436cad013cd44d382ca0d49b5544372"
      }
     },
     "metadata": {},
     "output_type": "display_data"
    },
    {
     "name": "stderr",
     "output_type": "stream",
     "text": [
      "Exception ignored in: Traceback (most recent call last):\n",
      "  File \"<string>\", line 1, in <module>\n",
      "Traceback (most recent call last):\n",
      "  File \"<string>\", line 1, in <module>\n",
      "  File \"/opt/homebrew/Caskroom/miniforge/base/envs/ml_39/lib/python3.9/multiprocessing/spawn.py\", line 116, in spawn_main\n",
      "  File \"/opt/homebrew/Caskroom/miniforge/base/envs/ml_39/lib/python3.9/multiprocessing/spawn.py\", line 116, in spawn_main\n",
      "    exitcode = _main(fd, parent_sentinel)\n",
      "  File \"/opt/homebrew/Caskroom/miniforge/base/envs/ml_39/lib/python3.9/multiprocessing/spawn.py\", line 126, in _main\n",
      "Traceback (most recent call last):\n",
      "  File \"<string>\", line 1, in <module>\n",
      "    self = reduction.pickle.load(from_parent)\n",
      "  File \"/opt/homebrew/Caskroom/miniforge/base/envs/ml_39/lib/python3.9/site-packages/torch/__init__.py\", line 1239, in <module>\n",
      "  File \"/opt/homebrew/Caskroom/miniforge/base/envs/ml_39/lib/python3.9/multiprocessing/spawn.py\", line 116, in spawn_main\n",
      "    exitcode = _main(fd, parent_sentinel)\n",
      "  File \"/opt/homebrew/Caskroom/miniforge/base/envs/ml_39/lib/python3.9/multiprocessing/spawn.py\", line 126, in _main\n",
      "    from torch import onnx as onnx\n",
      "  File \"/opt/homebrew/Caskroom/miniforge/base/envs/ml_39/lib/python3.9/site-packages/torch/onnx/__init__.py\", line 12, in <module>\n",
      "Traceback (most recent call last):\n",
      "  File \"<string>\", line 1, in <module>\n",
      "  File \"/opt/homebrew/Caskroom/miniforge/base/envs/ml_39/lib/python3.9/multiprocessing/spawn.py\", line 116, in spawn_main\n",
      "    exitcode = _main(fd, parent_sentinel)\n",
      "  File \"/opt/homebrew/Caskroom/miniforge/base/envs/ml_39/lib/python3.9/multiprocessing/spawn.py\", line 126, in _main\n",
      "    self = reduction.pickle.load(from_parent)\n",
      "  File \"/opt/homebrew/Caskroom/miniforge/base/envs/ml_39/lib/python3.9/site-packages/torch/__init__.py\", line 1239, in <module>\n",
      "    from torch import onnx as onnx\n",
      "  File \"/opt/homebrew/Caskroom/miniforge/base/envs/ml_39/lib/python3.9/site-packages/torch/onnx/__init__.py\", line 12, in <module>\n",
      "    from . import (  # usort:skip. Keep the order instead of sorting lexicographically\n",
      "  File \"/opt/homebrew/Caskroom/miniforge/base/envs/ml_39/lib/python3.9/site-packages/torch/onnx/errors.py\", line 9, in <module>\n",
      "    from torch.onnx._internal import diagnostics\n",
      "  File \"/opt/homebrew/Caskroom/miniforge/base/envs/ml_39/lib/python3.9/site-packages/torch/onnx/_internal/diagnostics/__init__.py\", line 1, in <module>\n",
      "    self = reduction.pickle.load(from_parent)\n",
      "  File \"/opt/homebrew/Caskroom/miniforge/base/envs/ml_39/lib/python3.9/site-packages/torch/__init__.py\", line 1247, in <module>\n",
      "    import torch.backends.mps\n",
      "  File \"/opt/homebrew/Caskroom/miniforge/base/envs/ml_39/lib/python3.9/site-packages/torch/backends/mps/__init__.py\", line 30, in <module>\n",
      "    from ._diagnostic import (\n",
      "  File \"/opt/homebrew/Caskroom/miniforge/base/envs/ml_39/lib/python3.9/site-packages/torch/onnx/_internal/diagnostics/_diagnostic.py\", line 10, in <module>\n",
      "    from torch.onnx._internal.diagnostics import infra\n",
      "  File \"/opt/homebrew/Caskroom/miniforge/base/envs/ml_39/lib/python3.9/site-packages/torch/onnx/_internal/diagnostics/infra/__init__.py\", line 1, in <module>\n",
      "    from ._infra import (\n",
      "  File \"/opt/homebrew/Caskroom/miniforge/base/envs/ml_39/lib/python3.9/site-packages/torch/onnx/_internal/diagnostics/infra/_infra.py\", line 10, in <module>\n",
      "    from torch.onnx._internal.diagnostics.infra import formatter, sarif\n",
      "  File \"/opt/homebrew/Caskroom/miniforge/base/envs/ml_39/lib/python3.9/site-packages/torch/onnx/_internal/diagnostics/infra/formatter.py\", line 7, in <module>\n",
      "<function _MultiProcessingDataLoaderIter.__del__ at 0x151de6af0>\n",
      "Traceback (most recent call last):\n",
      "  File \"/opt/homebrew/Caskroom/miniforge/base/envs/ml_39/lib/python3.9/site-packages/torch/utils/data/dataloader.py\", line 1479, in __del__\n",
      "    from . import (  # usort:skip. Keep the order instead of sorting lexicographically\n",
      "  File \"/opt/homebrew/Caskroom/miniforge/base/envs/ml_39/lib/python3.9/site-packages/torch/onnx/errors.py\", line 9, in <module>\n",
      "    from torch.onnx._internal import diagnostics\n",
      "  File \"<frozen importlib._bootstrap>\", line 1007, in _find_and_load\n",
      "  File \"<frozen importlib._bootstrap>\", line 982, in _find_and_load_unlocked\n",
      "  File \"<frozen importlib._bootstrap>\", line 925, in _find_spec\n",
      "  File \"<frozen importlib._bootstrap_external>\", line 1423, in find_spec\n",
      "  File \"<frozen importlib._bootstrap_external>\", line 1395, in _get_spec\n",
      "  File \"<frozen importlib._bootstrap_external>\", line 1537, in find_spec\n",
      "  File \"<frozen importlib._bootstrap_external>\", line 123, in _path_join\n",
      "KeyboardInterrupt\n",
      "    from ..._refs import var_mean as _var_mean, native_group_norm as _native_group_norm\n",
      "  File \"/opt/homebrew/Caskroom/miniforge/base/envs/ml_39/lib/python3.9/site-packages/torch/_refs/__init__.py\", line 14, in <module>\n",
      "    from torch.onnx._internal.diagnostics.infra import sarif\n",
      "  File \"/opt/homebrew/Caskroom/miniforge/base/envs/ml_39/lib/python3.9/site-packages/torch/onnx/_internal/diagnostics/infra/sarif/__init__.py\", line 22, in <module>\n",
      "    import torch._prims as prims\n",
      "  File \"/opt/homebrew/Caskroom/miniforge/base/envs/ml_39/lib/python3.9/site-packages/torch/_prims/__init__.py\", line 33, in <module>\n",
      "    from torch._subclasses.fake_tensor import FakeTensor, FakeTensorMode\n",
      "  File \"/opt/homebrew/Caskroom/miniforge/base/envs/ml_39/lib/python3.9/site-packages/torch/_subclasses/__init__.py\", line 3, in <module>\n",
      "    from torch.onnx._internal.diagnostics.infra.sarif._external_properties import (\n",
      "  File \"/opt/homebrew/Caskroom/miniforge/base/envs/ml_39/lib/python3.9/site-packages/torch/onnx/_internal/diagnostics/infra/sarif/_external_properties.py\", line 9, in <module>\n",
      "    from torch._subclasses.fake_tensor import (\n",
      "  File \"/opt/homebrew/Caskroom/miniforge/base/envs/ml_39/lib/python3.9/site-packages/torch/_subclasses/fake_tensor.py\", line 13, in <module>\n",
      "    self._shutdown_workers()\n",
      "  File \"/opt/homebrew/Caskroom/miniforge/base/envs/ml_39/lib/python3.9/site-packages/torch/utils/data/dataloader.py\", line 1443, in _shutdown_workers\n",
      "    w.join(timeout=_utils.MP_STATUS_CHECK_INTERVAL)\n",
      "  File \"/opt/homebrew/Caskroom/miniforge/base/envs/ml_39/lib/python3.9/multiprocessing/process.py\", line 149, in join\n",
      "    res = self._popen.wait(timeout)\n",
      "  File \"/opt/homebrew/Caskroom/miniforge/base/envs/ml_39/lib/python3.9/multiprocessing/popen_fork.py\", line 40, in wait\n",
      "    if not wait([self.sentinel], timeout):\n",
      "  File \"/opt/homebrew/Caskroom/miniforge/base/envs/ml_39/lib/python3.9/multiprocessing/connection.py\", line 931, in wait\n",
      "    ready = selector.select(timeout)\n",
      "  File \"/opt/homebrew/Caskroom/miniforge/base/envs/ml_39/lib/python3.9/selectors.py\", line 416, in select\n",
      "    fd_event_list = self._selector.poll(timeout)\n",
      "KeyboardInterrupt: \n",
      "Traceback (most recent call last):\n",
      "  File \"<string>\", line 1, in <module>\n",
      "    from torch.onnx._internal.diagnostics.infra.sarif import (\n",
      "  File \"/opt/homebrew/Caskroom/miniforge/base/envs/ml_39/lib/python3.9/site-packages/torch/onnx/_internal/diagnostics/infra/sarif/_result.py\", line 9, in <module>\n",
      "  File \"/opt/homebrew/Caskroom/miniforge/base/envs/ml_39/lib/python3.9/multiprocessing/spawn.py\", line 116, in spawn_main\n",
      "    exitcode = _main(fd, parent_sentinel)\n",
      "  File \"/opt/homebrew/Caskroom/miniforge/base/envs/ml_39/lib/python3.9/multiprocessing/spawn.py\", line 126, in _main\n",
      "    self = reduction.pickle.load(from_parent)\n",
      "  File \"/opt/homebrew/Caskroom/miniforge/base/envs/ml_39/lib/python3.9/site-packages/torch/__init__.py\", line 1239, in <module>\n",
      "    from torch.onnx._internal.diagnostics.infra.sarif import (\n",
      "  File \"/opt/homebrew/Caskroom/miniforge/base/envs/ml_39/lib/python3.9/site-packages/torch/onnx/_internal/diagnostics/infra/sarif/_fix.py\", line 17, in <module>\n",
      "    class Fix(object):\n",
      "  File \"/opt/homebrew/Caskroom/miniforge/base/envs/ml_39/lib/python3.9/dataclasses.py\", line 1021, in dataclass\n",
      "    from torch._guards import Source\n",
      "  File \"/opt/homebrew/Caskroom/miniforge/base/envs/ml_39/lib/python3.9/site-packages/torch/_guards.py\", line 14, in <module>\n",
      "    from torch import onnx as onnx\n",
      "  File \"/opt/homebrew/Caskroom/miniforge/base/envs/ml_39/lib/python3.9/site-packages/torch/onnx/__init__.py\", line 12, in <module>\n",
      "    from . import (  # usort:skip. Keep the order instead of sorting lexicographically\n",
      "  File \"/opt/homebrew/Caskroom/miniforge/base/envs/ml_39/lib/python3.9/site-packages/torch/onnx/symbolic_opset11.py\", line 12, in <module>\n",
      "    import sympy  # type: ignore[import]\n",
      "  File \"/opt/homebrew/Caskroom/miniforge/base/envs/ml_39/lib/python3.9/site-packages/sympy/__init__.py\", line 74, in <module>\n",
      "    from torch.onnx import (\n",
      "  File \"/opt/homebrew/Caskroom/miniforge/base/envs/ml_39/lib/python3.9/site-packages/torch/onnx/utils.py\", line 34, in <module>\n",
      "    from .polys import (Poly, PurePoly, poly_from_expr, parallel_poly_from_expr,\n",
      "  File \"/opt/homebrew/Caskroom/miniforge/base/envs/ml_39/lib/python3.9/site-packages/sympy/polys/__init__.py\", line 68, in <module>\n",
      "    return wrap(cls)\n",
      "  File \"/opt/homebrew/Caskroom/miniforge/base/envs/ml_39/lib/python3.9/dataclasses.py\", line 1013, in wrap\n",
      "    return _process_class(cls, init, repr, eq, order, unsafe_hash, frozen)\n",
      "  File \"/opt/homebrew/Caskroom/miniforge/base/envs/ml_39/lib/python3.9/dataclasses.py\", line 927, in _process_class\n",
      "    from .polytools import (Poly, PurePoly, poly_from_expr,\n",
      "  File \"/opt/homebrew/Caskroom/miniforge/base/envs/ml_39/lib/python3.9/site-packages/sympy/polys/polytools.py\", line 30, in <module>\n",
      "    _init_fn(flds,\n",
      "  File \"/opt/homebrew/Caskroom/miniforge/base/envs/ml_39/lib/python3.9/dataclasses.py\", line 531, in _init_fn\n",
      "    return _create_fn('__init__',\n",
      "  File \"/opt/homebrew/Caskroom/miniforge/base/envs/ml_39/lib/python3.9/dataclasses.py\", line 400, in _create_fn\n",
      "    exec(txt, globals, ns)\n",
      "  File \"<string>\", line 1, in <module>\n",
      "    from sympy.polys.groebnertools import groebner as _groebner\n",
      "  File \"<frozen importlib._bootstrap>\", line 1007, in _find_and_load\n",
      "KeyboardInterrupt\n",
      "  File \"<frozen importlib._bootstrap>\", line 986, in _find_and_load_unlocked\n",
      "  File \"<frozen importlib._bootstrap>\", line 680, in _load_unlocked\n",
      "  File \"<frozen importlib._bootstrap_external>\", line 846, in exec_module\n",
      "  File \"<frozen importlib._bootstrap_external>\", line 941, in get_code\n",
      "  File \"<frozen importlib._bootstrap_external>\", line 1040, in get_data\n",
      "KeyboardInterrupt\n",
      "    import torch.jit._trace\n",
      "  File \"/opt/homebrew/Caskroom/miniforge/base/envs/ml_39/lib/python3.9/site-packages/torch/jit/__init__.py\", line 24, in <module>\n",
      "    exitcode = _main(fd, parent_sentinel)\n",
      "  File \"/opt/homebrew/Caskroom/miniforge/base/envs/ml_39/lib/python3.9/multiprocessing/spawn.py\", line 126, in _main\n",
      "    from torch.jit._script import (\n",
      "  File \"/opt/homebrew/Caskroom/miniforge/base/envs/ml_39/lib/python3.9/site-packages/torch/jit/_script.py\", line 38, in <module>\n",
      "Traceback (most recent call last):\n",
      "  File \"<string>\", line 1, in <module>\n",
      "    from ._serialization import validate_map_location\n",
      "  File \"/opt/homebrew/Caskroom/miniforge/base/envs/ml_39/lib/python3.9/site-packages/torch/jit/_serialization.py\", line 13, in <module>\n",
      "    import torch\n",
      "  File \"<frozen importlib._bootstrap>\", line 209, in _lock_unlock_module\n",
      "  File \"<frozen importlib._bootstrap>\", line 198, in _get_module_lock\n",
      "KeyboardInterrupt\n",
      "    self = reduction.pickle.load(from_parent)\n",
      "  File \"/opt/homebrew/Caskroom/miniforge/base/envs/ml_39/lib/python3.9/site-packages/torch/__init__.py\", line 1187, in <module>\n",
      "    from .functional import *  # noqa: F403\n",
      "  File \"/opt/homebrew/Caskroom/miniforge/base/envs/ml_39/lib/python3.9/site-packages/torch/functional.py\", line 8, in <module>\n",
      "    import torch.nn.functional as F\n",
      "  File \"/opt/homebrew/Caskroom/miniforge/base/envs/ml_39/lib/python3.9/site-packages/torch/nn/__init__.py\", line 1, in <module>\n",
      "  File \"/opt/homebrew/Caskroom/miniforge/base/envs/ml_39/lib/python3.9/multiprocessing/spawn.py\", line 116, in spawn_main\n",
      "    exitcode = _main(fd, parent_sentinel)\n",
      "  File \"/opt/homebrew/Caskroom/miniforge/base/envs/ml_39/lib/python3.9/multiprocessing/spawn.py\", line 126, in _main\n",
      "    from .modules import *  # noqa: F403\n",
      "  File \"/opt/homebrew/Caskroom/miniforge/base/envs/ml_39/lib/python3.9/site-packages/torch/nn/modules/__init__.py\", line 2, in <module>\n",
      "    self = reduction.pickle.load(from_parent)\n",
      "  File \"/opt/homebrew/Caskroom/miniforge/base/envs/ml_39/lib/python3.9/site-packages/torch/__init__.py\", line 1239, in <module>\n",
      "    from .linear import Identity, Linear, Bilinear, LazyLinear\n",
      "  File \"/opt/homebrew/Caskroom/miniforge/base/envs/ml_39/lib/python3.9/site-packages/torch/nn/modules/linear.py\", line 7, in <module>\n",
      "    from .. import functional as F\n",
      "  File \"/opt/homebrew/Caskroom/miniforge/base/envs/ml_39/lib/python3.9/site-packages/torch/nn/functional.py\", line 3671, in <module>\n",
      "    def upsample(input: Tensor, size: Optional[int] = None, scale_factor: Optional[float] = None, mode: str = \"nearest\", align_corners: Optional[bool] = None) -> Tensor:  # noqa: F811\n",
      "  File \"/opt/homebrew/Caskroom/miniforge/base/envs/ml_39/lib/python3.9/site-packages/torch/_jit_internal.py\", line 876, in _overload\n",
      "    _check_overload_body(func)\n",
      "  File \"/opt/homebrew/Caskroom/miniforge/base/envs/ml_39/lib/python3.9/site-packages/torch/_jit_internal.py\", line 849, in _check_overload_body\n",
      "    parsed_def = parse_def(func)\n",
      "  File \"/opt/homebrew/Caskroom/miniforge/base/envs/ml_39/lib/python3.9/site-packages/torch/_sources.py\", line 120, in parse_def\n",
      "    sourcelines, file_lineno, filename = get_source_lines_and_file(\n",
      "  File \"/opt/homebrew/Caskroom/miniforge/base/envs/ml_39/lib/python3.9/site-packages/torch/_sources.py\", line 23, in get_source_lines_and_file\n",
      "    sourcelines, file_lineno = inspect.getsourcelines(obj)\n",
      "  File \"/opt/homebrew/Caskroom/miniforge/base/envs/ml_39/lib/python3.9/inspect.py\", line 1006, in getsourcelines\n",
      "    lines, lnum = findsource(object)\n",
      "  File \"/opt/homebrew/Caskroom/miniforge/base/envs/ml_39/lib/python3.9/inspect.py\", line 865, in findsource\n",
      "    pat = re.compile(r'^(\\s*def\\s)|(\\s*async\\s+def\\s)|(.*(?<!\\w)lambda(:|\\s))|^(\\s*@)')\n",
      "  File \"/opt/homebrew/Caskroom/miniforge/base/envs/ml_39/lib/python3.9/re.py\", line 252, in compile\n",
      "    return _compile(pattern, flags)\n",
      "  File \"/opt/homebrew/Caskroom/miniforge/base/envs/ml_39/lib/python3.9/re.py\", line 304, in _compile\n",
      "    p = sre_compile.compile(pattern, flags)\n",
      "  File \"/opt/homebrew/Caskroom/miniforge/base/envs/ml_39/lib/python3.9/sre_compile.py\", line 788, in compile\n",
      "    p = sre_parse.parse(p, flags)\n",
      "  File \"/opt/homebrew/Caskroom/miniforge/base/envs/ml_39/lib/python3.9/sre_parse.py\", line 955, in parse\n",
      "    p = _parse_sub(source, state, flags & SRE_FLAG_VERBOSE, 0)\n",
      "  File \"/opt/homebrew/Caskroom/miniforge/base/envs/ml_39/lib/python3.9/sre_parse.py\", line 444, in _parse_sub\n",
      "    itemsappend(_parse(source, state, verbose, nested + 1,\n",
      "  File \"/opt/homebrew/Caskroom/miniforge/base/envs/ml_39/lib/python3.9/sre_parse.py\", line 841, in _parse\n",
      "    p = _parse_sub(source, state, sub_verbose, nested + 1)\n",
      "  File \"/opt/homebrew/Caskroom/miniforge/base/envs/ml_39/lib/python3.9/sre_parse.py\", line 436, in _parse_sub\n",
      "    def _parse_sub(source, state, verbose, nested):\n",
      "KeyboardInterrupt\n",
      "Traceback (most recent call last):\n",
      "  File \"<string>\", line 1, in <module>\n",
      "  File \"/opt/homebrew/Caskroom/miniforge/base/envs/ml_39/lib/python3.9/multiprocessing/spawn.py\", line 116, in spawn_main\n",
      "    exitcode = _main(fd, parent_sentinel)\n",
      "  File \"/opt/homebrew/Caskroom/miniforge/base/envs/ml_39/lib/python3.9/multiprocessing/spawn.py\", line 126, in _main\n",
      "    self = reduction.pickle.load(from_parent)\n",
      "  File \"/opt/homebrew/Caskroom/miniforge/base/envs/ml_39/lib/python3.9/site-packages/torch/__init__.py\", line 1239, in <module>\n",
      "    from torch import onnx as onnx\n",
      "  File \"/opt/homebrew/Caskroom/miniforge/base/envs/ml_39/lib/python3.9/site-packages/torch/onnx/__init__.py\", line 12, in <module>\n",
      "    from . import (  # usort:skip. Keep the order instead of sorting lexicographically\n",
      "  File \"/opt/homebrew/Caskroom/miniforge/base/envs/ml_39/lib/python3.9/site-packages/torch/onnx/errors.py\", line 9, in <module>\n",
      "    from torch.onnx._internal import diagnostics\n",
      "  File \"/opt/homebrew/Caskroom/miniforge/base/envs/ml_39/lib/python3.9/site-packages/torch/onnx/_internal/diagnostics/__init__.py\", line 1, in <module>\n",
      "    from ._diagnostic import (\n",
      "  File \"/opt/homebrew/Caskroom/miniforge/base/envs/ml_39/lib/python3.9/site-packages/torch/onnx/_internal/diagnostics/_diagnostic.py\", line 10, in <module>\n",
      "    from torch.onnx._internal.diagnostics import infra\n",
      "  File \"/opt/homebrew/Caskroom/miniforge/base/envs/ml_39/lib/python3.9/site-packages/torch/onnx/_internal/diagnostics/infra/__init__.py\", line 1, in <module>\n",
      "    from ._infra import (\n",
      "  File \"/opt/homebrew/Caskroom/miniforge/base/envs/ml_39/lib/python3.9/site-packages/torch/onnx/_internal/diagnostics/infra/_infra.py\", line 10, in <module>\n",
      "    from torch.onnx._internal.diagnostics.infra import formatter, sarif\n",
      "  File \"/opt/homebrew/Caskroom/miniforge/base/envs/ml_39/lib/python3.9/site-packages/torch/onnx/_internal/diagnostics/infra/formatter.py\", line 7, in <module>\n",
      "    from torch.onnx._internal.diagnostics.infra import sarif\n",
      "  File \"/opt/homebrew/Caskroom/miniforge/base/envs/ml_39/lib/python3.9/site-packages/torch/onnx/_internal/diagnostics/infra/sarif/__init__.py\", line 22, in <module>\n",
      "    from torch.onnx._internal.diagnostics.infra.sarif._external_properties import (\n",
      "  File \"/opt/homebrew/Caskroom/miniforge/base/envs/ml_39/lib/python3.9/site-packages/torch/onnx/_internal/diagnostics/infra/sarif/_external_properties.py\", line 9, in <module>\n",
      "    from torch.onnx._internal.diagnostics.infra.sarif import (\n",
      "  File \"/opt/homebrew/Caskroom/miniforge/base/envs/ml_39/lib/python3.9/site-packages/torch/onnx/_internal/diagnostics/infra/sarif/_result.py\", line 29, in <module>\n",
      "    class Result(object):\n",
      "  File \"/opt/homebrew/Caskroom/miniforge/base/envs/ml_39/lib/python3.9/dataclasses.py\", line 1021, in dataclass\n",
      "    return wrap(cls)\n",
      "  File \"/opt/homebrew/Caskroom/miniforge/base/envs/ml_39/lib/python3.9/dataclasses.py\", line 1013, in wrap\n",
      "    return _process_class(cls, init, repr, eq, order, unsafe_hash, frozen)\n",
      "  File \"/opt/homebrew/Caskroom/miniforge/base/envs/ml_39/lib/python3.9/dataclasses.py\", line 835, in _process_class\n",
      "    for b in cls.__mro__[-1:0:-1]:\n",
      "KeyboardInterrupt\n",
      "Traceback (most recent call last):\n",
      "  File \"<string>\", line 1, in <module>\n",
      "  File \"/opt/homebrew/Caskroom/miniforge/base/envs/ml_39/lib/python3.9/multiprocessing/spawn.py\", line 116, in spawn_main\n",
      "    exitcode = _main(fd, parent_sentinel)\n",
      "  File \"/opt/homebrew/Caskroom/miniforge/base/envs/ml_39/lib/python3.9/multiprocessing/spawn.py\", line 126, in _main\n",
      "    self = reduction.pickle.load(from_parent)\n",
      "  File \"/opt/homebrew/Caskroom/miniforge/base/envs/ml_39/lib/python3.9/site-packages/torch/__init__.py\", line 1239, in <module>\n",
      "    from torch import onnx as onnx\n",
      "  File \"/opt/homebrew/Caskroom/miniforge/base/envs/ml_39/lib/python3.9/site-packages/torch/onnx/__init__.py\", line 12, in <module>\n",
      "    from . import (  # usort:skip. Keep the order instead of sorting lexicographically\n",
      "  File \"/opt/homebrew/Caskroom/miniforge/base/envs/ml_39/lib/python3.9/site-packages/torch/onnx/errors.py\", line 9, in <module>\n",
      "    from torch.onnx._internal import diagnostics\n",
      "  File \"/opt/homebrew/Caskroom/miniforge/base/envs/ml_39/lib/python3.9/site-packages/torch/onnx/_internal/diagnostics/__init__.py\", line 1, in <module>\n",
      "    from ._diagnostic import (\n",
      "  File \"/opt/homebrew/Caskroom/miniforge/base/envs/ml_39/lib/python3.9/site-packages/torch/onnx/_internal/diagnostics/_diagnostic.py\", line 10, in <module>\n",
      "    from torch.onnx._internal.diagnostics import infra\n",
      "  File \"/opt/homebrew/Caskroom/miniforge/base/envs/ml_39/lib/python3.9/site-packages/torch/onnx/_internal/diagnostics/infra/__init__.py\", line 1, in <module>\n",
      "    from ._infra import (\n",
      "  File \"/opt/homebrew/Caskroom/miniforge/base/envs/ml_39/lib/python3.9/site-packages/torch/onnx/_internal/diagnostics/infra/_infra.py\", line 10, in <module>\n",
      "    from torch.onnx._internal.diagnostics.infra import formatter, sarif\n",
      "  File \"/opt/homebrew/Caskroom/miniforge/base/envs/ml_39/lib/python3.9/site-packages/torch/onnx/_internal/diagnostics/infra/formatter.py\", line 7, in <module>\n",
      "    from torch.onnx._internal.diagnostics.infra import sarif\n",
      "  File \"/opt/homebrew/Caskroom/miniforge/base/envs/ml_39/lib/python3.9/site-packages/torch/onnx/_internal/diagnostics/infra/sarif/__init__.py\", line 18, in <module>\n",
      "    from torch.onnx._internal.diagnostics.infra.sarif._conversion import Conversion\n",
      "  File \"/opt/homebrew/Caskroom/miniforge/base/envs/ml_39/lib/python3.9/site-packages/torch/onnx/_internal/diagnostics/infra/sarif/_conversion.py\", line 9, in <module>\n",
      "    from torch import onnx as onnx\n",
      "  File \"/opt/homebrew/Caskroom/miniforge/base/envs/ml_39/lib/python3.9/site-packages/torch/onnx/__init__.py\", line 12, in <module>\n",
      "    from . import (  # usort:skip. Keep the order instead of sorting lexicographically\n",
      "  File \"/opt/homebrew/Caskroom/miniforge/base/envs/ml_39/lib/python3.9/site-packages/torch/onnx/errors.py\", line 9, in <module>\n",
      "    from torch.onnx._internal.diagnostics.infra.sarif import (\n",
      "  File \"/opt/homebrew/Caskroom/miniforge/base/envs/ml_39/lib/python3.9/site-packages/torch/onnx/_internal/diagnostics/infra/sarif/_tool.py\", line 9, in <module>\n",
      "    from torch.onnx._internal.diagnostics.infra.sarif import _property_bag, _tool_component\n",
      "  File \"/opt/homebrew/Caskroom/miniforge/base/envs/ml_39/lib/python3.9/site-packages/torch/onnx/_internal/diagnostics/infra/sarif/_tool_component.py\", line 9, in <module>\n",
      "    from torch.onnx._internal.diagnostics.infra.sarif import (\n",
      "  File \"/opt/homebrew/Caskroom/miniforge/base/envs/ml_39/lib/python3.9/site-packages/torch/onnx/_internal/diagnostics/infra/sarif/_translation_metadata.py\", line 16, in <module>\n",
      "    class TranslationMetadata(object):\n",
      "  File \"/opt/homebrew/Caskroom/miniforge/base/envs/ml_39/lib/python3.9/dataclasses.py\", line 1021, in dataclass\n",
      "    return wrap(cls)\n",
      "  File \"/opt/homebrew/Caskroom/miniforge/base/envs/ml_39/lib/python3.9/dataclasses.py\", line 1013, in wrap\n",
      "    return _process_class(cls, init, repr, eq, order, unsafe_hash, frozen)\n",
      "  File \"/opt/homebrew/Caskroom/miniforge/base/envs/ml_39/lib/python3.9/dataclasses.py\", line 953, in _process_class\n",
      "    _cmp_fn('__eq__', '==',\n",
      "  File \"/opt/homebrew/Caskroom/miniforge/base/envs/ml_39/lib/python3.9/dataclasses.py\", line 581, in _cmp_fn\n",
      "    return _create_fn(name,\n",
      "  File \"/opt/homebrew/Caskroom/miniforge/base/envs/ml_39/lib/python3.9/dataclasses.py\", line 400, in _create_fn\n",
      "    exec(txt, globals, ns)\n",
      "  File \"<string>\", line 1, in <module>\n",
      "KeyboardInterrupt\n",
      "    from torch.onnx._internal import diagnostics\n",
      "  File \"/opt/homebrew/Caskroom/miniforge/base/envs/ml_39/lib/python3.9/site-packages/torch/onnx/_internal/diagnostics/__init__.py\", line 1, in <module>\n",
      "    from ._diagnostic import (\n",
      "  File \"/opt/homebrew/Caskroom/miniforge/base/envs/ml_39/lib/python3.9/site-packages/torch/onnx/_internal/diagnostics/_diagnostic.py\", line 10, in <module>\n",
      "    from torch.onnx._internal.diagnostics import infra\n",
      "  File \"/opt/homebrew/Caskroom/miniforge/base/envs/ml_39/lib/python3.9/site-packages/torch/onnx/_internal/diagnostics/infra/__init__.py\", line 1, in <module>\n",
      "    from ._infra import (\n",
      "  File \"/opt/homebrew/Caskroom/miniforge/base/envs/ml_39/lib/python3.9/site-packages/torch/onnx/_internal/diagnostics/infra/_infra.py\", line 10, in <module>\n",
      "    from torch.onnx._internal.diagnostics.infra import formatter, sarif\n",
      "  File \"/opt/homebrew/Caskroom/miniforge/base/envs/ml_39/lib/python3.9/site-packages/torch/onnx/_internal/diagnostics/infra/formatter.py\", line 7, in <module>\n",
      "    from torch.onnx._internal.diagnostics.infra import sarif\n",
      "  File \"/opt/homebrew/Caskroom/miniforge/base/envs/ml_39/lib/python3.9/site-packages/torch/onnx/_internal/diagnostics/infra/sarif/__init__.py\", line 18, in <module>\n",
      "    from torch.onnx._internal.diagnostics.infra.sarif._conversion import Conversion\n",
      "  File \"/opt/homebrew/Caskroom/miniforge/base/envs/ml_39/lib/python3.9/site-packages/torch/onnx/_internal/diagnostics/infra/sarif/_conversion.py\", line 9, in <module>\n",
      "    from torch.onnx._internal.diagnostics.infra.sarif import (\n",
      "  File \"/opt/homebrew/Caskroom/miniforge/base/envs/ml_39/lib/python3.9/site-packages/torch/onnx/_internal/diagnostics/infra/sarif/_invocation.py\", line 18, in <module>\n",
      "    class Invocation(object):\n",
      "  File \"/opt/homebrew/Caskroom/miniforge/base/envs/ml_39/lib/python3.9/site-packages/torch/onnx/_internal/diagnostics/infra/sarif/_invocation.py\", line 71, in Invocation\n",
      "    properties: Optional[_property_bag.PropertyBag] = dataclasses.field(\n",
      "  File \"/opt/homebrew/Caskroom/miniforge/base/envs/ml_39/lib/python3.9/dataclasses.py\", line 340, in field\n",
      "    return Field(default, default_factory, init, repr, hash, compare,\n",
      "  File \"/opt/homebrew/Caskroom/miniforge/base/envs/ml_39/lib/python3.9/dataclasses.py\", line 244, in __init__\n",
      "    def __init__(self, default, default_factory, init, repr, hash, compare,\n",
      "KeyboardInterrupt\n"
     ]
    },
    {
     "ename": "RuntimeError",
     "evalue": "DataLoader worker (pid(s) 68495, 68497, 68502) exited unexpectedly",
     "output_type": "error",
     "traceback": [
      "\u001B[0;31m---------------------------------------------------------------------------\u001B[0m",
      "\u001B[0;31mRuntimeError\u001B[0m                              Traceback (most recent call last)",
      "File \u001B[0;32m/opt/homebrew/Caskroom/miniforge/base/envs/ml_39/lib/python3.9/site-packages/torch/utils/data/dataloader.py:1133\u001B[0m, in \u001B[0;36m_MultiProcessingDataLoaderIter._try_get_data\u001B[0;34m(self, timeout)\u001B[0m\n\u001B[1;32m   1132\u001B[0m \u001B[38;5;28;01mtry\u001B[39;00m:\n\u001B[0;32m-> 1133\u001B[0m     data \u001B[38;5;241m=\u001B[39m \u001B[38;5;28;43mself\u001B[39;49m\u001B[38;5;241;43m.\u001B[39;49m\u001B[43m_data_queue\u001B[49m\u001B[38;5;241;43m.\u001B[39;49m\u001B[43mget\u001B[49m\u001B[43m(\u001B[49m\u001B[43mtimeout\u001B[49m\u001B[38;5;241;43m=\u001B[39;49m\u001B[43mtimeout\u001B[49m\u001B[43m)\u001B[49m\n\u001B[1;32m   1134\u001B[0m     \u001B[38;5;28;01mreturn\u001B[39;00m (\u001B[38;5;28;01mTrue\u001B[39;00m, data)\n",
      "File \u001B[0;32m/opt/homebrew/Caskroom/miniforge/base/envs/ml_39/lib/python3.9/multiprocessing/queues.py:113\u001B[0m, in \u001B[0;36mQueue.get\u001B[0;34m(self, block, timeout)\u001B[0m\n\u001B[1;32m    112\u001B[0m timeout \u001B[38;5;241m=\u001B[39m deadline \u001B[38;5;241m-\u001B[39m time\u001B[38;5;241m.\u001B[39mmonotonic()\n\u001B[0;32m--> 113\u001B[0m \u001B[38;5;28;01mif\u001B[39;00m \u001B[38;5;129;01mnot\u001B[39;00m \u001B[38;5;28;43mself\u001B[39;49m\u001B[38;5;241;43m.\u001B[39;49m\u001B[43m_poll\u001B[49m\u001B[43m(\u001B[49m\u001B[43mtimeout\u001B[49m\u001B[43m)\u001B[49m:\n\u001B[1;32m    114\u001B[0m     \u001B[38;5;28;01mraise\u001B[39;00m Empty\n",
      "File \u001B[0;32m/opt/homebrew/Caskroom/miniforge/base/envs/ml_39/lib/python3.9/multiprocessing/connection.py:257\u001B[0m, in \u001B[0;36m_ConnectionBase.poll\u001B[0;34m(self, timeout)\u001B[0m\n\u001B[1;32m    256\u001B[0m \u001B[38;5;28mself\u001B[39m\u001B[38;5;241m.\u001B[39m_check_readable()\n\u001B[0;32m--> 257\u001B[0m \u001B[38;5;28;01mreturn\u001B[39;00m \u001B[38;5;28;43mself\u001B[39;49m\u001B[38;5;241;43m.\u001B[39;49m\u001B[43m_poll\u001B[49m\u001B[43m(\u001B[49m\u001B[43mtimeout\u001B[49m\u001B[43m)\u001B[49m\n",
      "File \u001B[0;32m/opt/homebrew/Caskroom/miniforge/base/envs/ml_39/lib/python3.9/multiprocessing/connection.py:424\u001B[0m, in \u001B[0;36mConnection._poll\u001B[0;34m(self, timeout)\u001B[0m\n\u001B[1;32m    423\u001B[0m \u001B[38;5;28;01mdef\u001B[39;00m \u001B[38;5;21m_poll\u001B[39m(\u001B[38;5;28mself\u001B[39m, timeout):\n\u001B[0;32m--> 424\u001B[0m     r \u001B[38;5;241m=\u001B[39m \u001B[43mwait\u001B[49m\u001B[43m(\u001B[49m\u001B[43m[\u001B[49m\u001B[38;5;28;43mself\u001B[39;49m\u001B[43m]\u001B[49m\u001B[43m,\u001B[49m\u001B[43m \u001B[49m\u001B[43mtimeout\u001B[49m\u001B[43m)\u001B[49m\n\u001B[1;32m    425\u001B[0m     \u001B[38;5;28;01mreturn\u001B[39;00m \u001B[38;5;28mbool\u001B[39m(r)\n",
      "File \u001B[0;32m/opt/homebrew/Caskroom/miniforge/base/envs/ml_39/lib/python3.9/multiprocessing/connection.py:931\u001B[0m, in \u001B[0;36mwait\u001B[0;34m(object_list, timeout)\u001B[0m\n\u001B[1;32m    930\u001B[0m \u001B[38;5;28;01mwhile\u001B[39;00m \u001B[38;5;28;01mTrue\u001B[39;00m:\n\u001B[0;32m--> 931\u001B[0m     ready \u001B[38;5;241m=\u001B[39m \u001B[43mselector\u001B[49m\u001B[38;5;241;43m.\u001B[39;49m\u001B[43mselect\u001B[49m\u001B[43m(\u001B[49m\u001B[43mtimeout\u001B[49m\u001B[43m)\u001B[49m\n\u001B[1;32m    932\u001B[0m     \u001B[38;5;28;01mif\u001B[39;00m ready:\n",
      "File \u001B[0;32m/opt/homebrew/Caskroom/miniforge/base/envs/ml_39/lib/python3.9/selectors.py:416\u001B[0m, in \u001B[0;36m_PollLikeSelector.select\u001B[0;34m(self, timeout)\u001B[0m\n\u001B[1;32m    415\u001B[0m \u001B[38;5;28;01mtry\u001B[39;00m:\n\u001B[0;32m--> 416\u001B[0m     fd_event_list \u001B[38;5;241m=\u001B[39m \u001B[38;5;28;43mself\u001B[39;49m\u001B[38;5;241;43m.\u001B[39;49m\u001B[43m_selector\u001B[49m\u001B[38;5;241;43m.\u001B[39;49m\u001B[43mpoll\u001B[49m\u001B[43m(\u001B[49m\u001B[43mtimeout\u001B[49m\u001B[43m)\u001B[49m\n\u001B[1;32m    417\u001B[0m \u001B[38;5;28;01mexcept\u001B[39;00m \u001B[38;5;167;01mInterruptedError\u001B[39;00m:\n",
      "File \u001B[0;32m/opt/homebrew/Caskroom/miniforge/base/envs/ml_39/lib/python3.9/site-packages/torch/utils/data/_utils/signal_handling.py:66\u001B[0m, in \u001B[0;36m_set_SIGCHLD_handler.<locals>.handler\u001B[0;34m(signum, frame)\u001B[0m\n\u001B[1;32m     63\u001B[0m \u001B[38;5;28;01mdef\u001B[39;00m \u001B[38;5;21mhandler\u001B[39m(signum, frame):\n\u001B[1;32m     64\u001B[0m     \u001B[38;5;66;03m# This following call uses `waitid` with WNOHANG from C side. Therefore,\u001B[39;00m\n\u001B[1;32m     65\u001B[0m     \u001B[38;5;66;03m# Python can still get and update the process status successfully.\u001B[39;00m\n\u001B[0;32m---> 66\u001B[0m     \u001B[43m_error_if_any_worker_fails\u001B[49m\u001B[43m(\u001B[49m\u001B[43m)\u001B[49m\n\u001B[1;32m     67\u001B[0m     \u001B[38;5;28;01mif\u001B[39;00m previous_handler \u001B[38;5;129;01mis\u001B[39;00m \u001B[38;5;129;01mnot\u001B[39;00m \u001B[38;5;28;01mNone\u001B[39;00m:\n",
      "\u001B[0;31mRuntimeError\u001B[0m: DataLoader worker (pid 68502) is killed by signal: Interrupt: 2. ",
      "\nThe above exception was the direct cause of the following exception:\n",
      "\u001B[0;31mRuntimeError\u001B[0m                              Traceback (most recent call last)",
      "Cell \u001B[0;32mIn[3], line 2\u001B[0m\n\u001B[1;32m      1\u001B[0m trainer \u001B[38;5;241m=\u001B[39m pl\u001B[38;5;241m.\u001B[39mTrainer(accelerator\u001B[38;5;241m=\u001B[39m\u001B[38;5;124m\"\u001B[39m\u001B[38;5;124mmps\u001B[39m\u001B[38;5;124m\"\u001B[39m, max_epochs\u001B[38;5;241m=\u001B[39m\u001B[38;5;241m100\u001B[39m, devices\u001B[38;5;241m=\u001B[39m\u001B[38;5;241m1\u001B[39m)\n\u001B[0;32m----> 2\u001B[0m \u001B[43mtrainer\u001B[49m\u001B[38;5;241;43m.\u001B[39;49m\u001B[43mfit\u001B[49m\u001B[43m(\u001B[49m\u001B[43mmodel\u001B[49m\u001B[43m,\u001B[49m\u001B[43m \u001B[49m\u001B[43mdm\u001B[49m\u001B[43m)\u001B[49m\n",
      "File \u001B[0;32m/opt/homebrew/Caskroom/miniforge/base/envs/ml_39/lib/python3.9/site-packages/pytorch_lightning/trainer/trainer.py:520\u001B[0m, in \u001B[0;36mTrainer.fit\u001B[0;34m(self, model, train_dataloaders, val_dataloaders, datamodule, ckpt_path)\u001B[0m\n\u001B[1;32m    518\u001B[0m model \u001B[38;5;241m=\u001B[39m _maybe_unwrap_optimized(model)\n\u001B[1;32m    519\u001B[0m \u001B[38;5;28mself\u001B[39m\u001B[38;5;241m.\u001B[39mstrategy\u001B[38;5;241m.\u001B[39m_lightning_module \u001B[38;5;241m=\u001B[39m model\n\u001B[0;32m--> 520\u001B[0m \u001B[43mcall\u001B[49m\u001B[38;5;241;43m.\u001B[39;49m\u001B[43m_call_and_handle_interrupt\u001B[49m\u001B[43m(\u001B[49m\n\u001B[1;32m    521\u001B[0m \u001B[43m    \u001B[49m\u001B[38;5;28;43mself\u001B[39;49m\u001B[43m,\u001B[49m\u001B[43m \u001B[49m\u001B[38;5;28;43mself\u001B[39;49m\u001B[38;5;241;43m.\u001B[39;49m\u001B[43m_fit_impl\u001B[49m\u001B[43m,\u001B[49m\u001B[43m \u001B[49m\u001B[43mmodel\u001B[49m\u001B[43m,\u001B[49m\u001B[43m \u001B[49m\u001B[43mtrain_dataloaders\u001B[49m\u001B[43m,\u001B[49m\u001B[43m \u001B[49m\u001B[43mval_dataloaders\u001B[49m\u001B[43m,\u001B[49m\u001B[43m \u001B[49m\u001B[43mdatamodule\u001B[49m\u001B[43m,\u001B[49m\u001B[43m \u001B[49m\u001B[43mckpt_path\u001B[49m\n\u001B[1;32m    522\u001B[0m \u001B[43m\u001B[49m\u001B[43m)\u001B[49m\n",
      "File \u001B[0;32m/opt/homebrew/Caskroom/miniforge/base/envs/ml_39/lib/python3.9/site-packages/pytorch_lightning/trainer/call.py:44\u001B[0m, in \u001B[0;36m_call_and_handle_interrupt\u001B[0;34m(trainer, trainer_fn, *args, **kwargs)\u001B[0m\n\u001B[1;32m     42\u001B[0m         \u001B[38;5;28;01mreturn\u001B[39;00m trainer\u001B[38;5;241m.\u001B[39mstrategy\u001B[38;5;241m.\u001B[39mlauncher\u001B[38;5;241m.\u001B[39mlaunch(trainer_fn, \u001B[38;5;241m*\u001B[39margs, trainer\u001B[38;5;241m=\u001B[39mtrainer, \u001B[38;5;241m*\u001B[39m\u001B[38;5;241m*\u001B[39mkwargs)\n\u001B[1;32m     43\u001B[0m     \u001B[38;5;28;01melse\u001B[39;00m:\n\u001B[0;32m---> 44\u001B[0m         \u001B[38;5;28;01mreturn\u001B[39;00m \u001B[43mtrainer_fn\u001B[49m\u001B[43m(\u001B[49m\u001B[38;5;241;43m*\u001B[39;49m\u001B[43margs\u001B[49m\u001B[43m,\u001B[49m\u001B[43m \u001B[49m\u001B[38;5;241;43m*\u001B[39;49m\u001B[38;5;241;43m*\u001B[39;49m\u001B[43mkwargs\u001B[49m\u001B[43m)\u001B[49m\n\u001B[1;32m     46\u001B[0m \u001B[38;5;28;01mexcept\u001B[39;00m _TunerExitException:\n\u001B[1;32m     47\u001B[0m     _call_teardown_hook(trainer)\n",
      "File \u001B[0;32m/opt/homebrew/Caskroom/miniforge/base/envs/ml_39/lib/python3.9/site-packages/pytorch_lightning/trainer/trainer.py:559\u001B[0m, in \u001B[0;36mTrainer._fit_impl\u001B[0;34m(self, model, train_dataloaders, val_dataloaders, datamodule, ckpt_path)\u001B[0m\n\u001B[1;32m    549\u001B[0m \u001B[38;5;28mself\u001B[39m\u001B[38;5;241m.\u001B[39m_data_connector\u001B[38;5;241m.\u001B[39mattach_data(\n\u001B[1;32m    550\u001B[0m     model, train_dataloaders\u001B[38;5;241m=\u001B[39mtrain_dataloaders, val_dataloaders\u001B[38;5;241m=\u001B[39mval_dataloaders, datamodule\u001B[38;5;241m=\u001B[39mdatamodule\n\u001B[1;32m    551\u001B[0m )\n\u001B[1;32m    553\u001B[0m ckpt_path \u001B[38;5;241m=\u001B[39m \u001B[38;5;28mself\u001B[39m\u001B[38;5;241m.\u001B[39m_checkpoint_connector\u001B[38;5;241m.\u001B[39m_select_ckpt_path(\n\u001B[1;32m    554\u001B[0m     \u001B[38;5;28mself\u001B[39m\u001B[38;5;241m.\u001B[39mstate\u001B[38;5;241m.\u001B[39mfn,\n\u001B[1;32m    555\u001B[0m     ckpt_path,\n\u001B[1;32m    556\u001B[0m     model_provided\u001B[38;5;241m=\u001B[39m\u001B[38;5;28;01mTrue\u001B[39;00m,\n\u001B[1;32m    557\u001B[0m     model_connected\u001B[38;5;241m=\u001B[39m\u001B[38;5;28mself\u001B[39m\u001B[38;5;241m.\u001B[39mlightning_module \u001B[38;5;129;01mis\u001B[39;00m \u001B[38;5;129;01mnot\u001B[39;00m \u001B[38;5;28;01mNone\u001B[39;00m,\n\u001B[1;32m    558\u001B[0m )\n\u001B[0;32m--> 559\u001B[0m \u001B[38;5;28;43mself\u001B[39;49m\u001B[38;5;241;43m.\u001B[39;49m\u001B[43m_run\u001B[49m\u001B[43m(\u001B[49m\u001B[43mmodel\u001B[49m\u001B[43m,\u001B[49m\u001B[43m \u001B[49m\u001B[43mckpt_path\u001B[49m\u001B[38;5;241;43m=\u001B[39;49m\u001B[43mckpt_path\u001B[49m\u001B[43m)\u001B[49m\n\u001B[1;32m    561\u001B[0m \u001B[38;5;28;01massert\u001B[39;00m \u001B[38;5;28mself\u001B[39m\u001B[38;5;241m.\u001B[39mstate\u001B[38;5;241m.\u001B[39mstopped\n\u001B[1;32m    562\u001B[0m \u001B[38;5;28mself\u001B[39m\u001B[38;5;241m.\u001B[39mtraining \u001B[38;5;241m=\u001B[39m \u001B[38;5;28;01mFalse\u001B[39;00m\n",
      "File \u001B[0;32m/opt/homebrew/Caskroom/miniforge/base/envs/ml_39/lib/python3.9/site-packages/pytorch_lightning/trainer/trainer.py:935\u001B[0m, in \u001B[0;36mTrainer._run\u001B[0;34m(self, model, ckpt_path)\u001B[0m\n\u001B[1;32m    930\u001B[0m \u001B[38;5;28mself\u001B[39m\u001B[38;5;241m.\u001B[39m_signal_connector\u001B[38;5;241m.\u001B[39mregister_signal_handlers()\n\u001B[1;32m    932\u001B[0m \u001B[38;5;66;03m# ----------------------------\u001B[39;00m\n\u001B[1;32m    933\u001B[0m \u001B[38;5;66;03m# RUN THE TRAINER\u001B[39;00m\n\u001B[1;32m    934\u001B[0m \u001B[38;5;66;03m# ----------------------------\u001B[39;00m\n\u001B[0;32m--> 935\u001B[0m results \u001B[38;5;241m=\u001B[39m \u001B[38;5;28;43mself\u001B[39;49m\u001B[38;5;241;43m.\u001B[39;49m\u001B[43m_run_stage\u001B[49m\u001B[43m(\u001B[49m\u001B[43m)\u001B[49m\n\u001B[1;32m    937\u001B[0m \u001B[38;5;66;03m# ----------------------------\u001B[39;00m\n\u001B[1;32m    938\u001B[0m \u001B[38;5;66;03m# POST-Training CLEAN UP\u001B[39;00m\n\u001B[1;32m    939\u001B[0m \u001B[38;5;66;03m# ----------------------------\u001B[39;00m\n\u001B[1;32m    940\u001B[0m log\u001B[38;5;241m.\u001B[39mdebug(\u001B[38;5;124mf\u001B[39m\u001B[38;5;124m\"\u001B[39m\u001B[38;5;132;01m{\u001B[39;00m\u001B[38;5;28mself\u001B[39m\u001B[38;5;241m.\u001B[39m\u001B[38;5;18m__class__\u001B[39m\u001B[38;5;241m.\u001B[39m\u001B[38;5;18m__name__\u001B[39m\u001B[38;5;132;01m}\u001B[39;00m\u001B[38;5;124m: trainer tearing down\u001B[39m\u001B[38;5;124m\"\u001B[39m)\n",
      "File \u001B[0;32m/opt/homebrew/Caskroom/miniforge/base/envs/ml_39/lib/python3.9/site-packages/pytorch_lightning/trainer/trainer.py:978\u001B[0m, in \u001B[0;36mTrainer._run_stage\u001B[0;34m(self)\u001B[0m\n\u001B[1;32m    976\u001B[0m         \u001B[38;5;28mself\u001B[39m\u001B[38;5;241m.\u001B[39m_run_sanity_check()\n\u001B[1;32m    977\u001B[0m     \u001B[38;5;28;01mwith\u001B[39;00m torch\u001B[38;5;241m.\u001B[39mautograd\u001B[38;5;241m.\u001B[39mset_detect_anomaly(\u001B[38;5;28mself\u001B[39m\u001B[38;5;241m.\u001B[39m_detect_anomaly):\n\u001B[0;32m--> 978\u001B[0m         \u001B[38;5;28;43mself\u001B[39;49m\u001B[38;5;241;43m.\u001B[39;49m\u001B[43mfit_loop\u001B[49m\u001B[38;5;241;43m.\u001B[39;49m\u001B[43mrun\u001B[49m\u001B[43m(\u001B[49m\u001B[43m)\u001B[49m\n\u001B[1;32m    979\u001B[0m     \u001B[38;5;28;01mreturn\u001B[39;00m \u001B[38;5;28;01mNone\u001B[39;00m\n\u001B[1;32m    980\u001B[0m \u001B[38;5;28;01mraise\u001B[39;00m \u001B[38;5;167;01mRuntimeError\u001B[39;00m(\u001B[38;5;124mf\u001B[39m\u001B[38;5;124m\"\u001B[39m\u001B[38;5;124mUnexpected state \u001B[39m\u001B[38;5;132;01m{\u001B[39;00m\u001B[38;5;28mself\u001B[39m\u001B[38;5;241m.\u001B[39mstate\u001B[38;5;132;01m}\u001B[39;00m\u001B[38;5;124m\"\u001B[39m)\n",
      "File \u001B[0;32m/opt/homebrew/Caskroom/miniforge/base/envs/ml_39/lib/python3.9/site-packages/pytorch_lightning/loops/fit_loop.py:201\u001B[0m, in \u001B[0;36m_FitLoop.run\u001B[0;34m(self)\u001B[0m\n\u001B[1;32m    199\u001B[0m \u001B[38;5;28;01mtry\u001B[39;00m:\n\u001B[1;32m    200\u001B[0m     \u001B[38;5;28mself\u001B[39m\u001B[38;5;241m.\u001B[39mon_advance_start()\n\u001B[0;32m--> 201\u001B[0m     \u001B[38;5;28;43mself\u001B[39;49m\u001B[38;5;241;43m.\u001B[39;49m\u001B[43madvance\u001B[49m\u001B[43m(\u001B[49m\u001B[43m)\u001B[49m\n\u001B[1;32m    202\u001B[0m     \u001B[38;5;28mself\u001B[39m\u001B[38;5;241m.\u001B[39mon_advance_end()\n\u001B[1;32m    203\u001B[0m     \u001B[38;5;28mself\u001B[39m\u001B[38;5;241m.\u001B[39m_restarting \u001B[38;5;241m=\u001B[39m \u001B[38;5;28;01mFalse\u001B[39;00m\n",
      "File \u001B[0;32m/opt/homebrew/Caskroom/miniforge/base/envs/ml_39/lib/python3.9/site-packages/pytorch_lightning/loops/fit_loop.py:354\u001B[0m, in \u001B[0;36m_FitLoop.advance\u001B[0;34m(self)\u001B[0m\n\u001B[1;32m    352\u001B[0m \u001B[38;5;28mself\u001B[39m\u001B[38;5;241m.\u001B[39m_data_fetcher\u001B[38;5;241m.\u001B[39msetup(combined_loader)\n\u001B[1;32m    353\u001B[0m \u001B[38;5;28;01mwith\u001B[39;00m \u001B[38;5;28mself\u001B[39m\u001B[38;5;241m.\u001B[39mtrainer\u001B[38;5;241m.\u001B[39mprofiler\u001B[38;5;241m.\u001B[39mprofile(\u001B[38;5;124m\"\u001B[39m\u001B[38;5;124mrun_training_epoch\u001B[39m\u001B[38;5;124m\"\u001B[39m):\n\u001B[0;32m--> 354\u001B[0m     \u001B[38;5;28;43mself\u001B[39;49m\u001B[38;5;241;43m.\u001B[39;49m\u001B[43mepoch_loop\u001B[49m\u001B[38;5;241;43m.\u001B[39;49m\u001B[43mrun\u001B[49m\u001B[43m(\u001B[49m\u001B[38;5;28;43mself\u001B[39;49m\u001B[38;5;241;43m.\u001B[39;49m\u001B[43m_data_fetcher\u001B[49m\u001B[43m)\u001B[49m\n",
      "File \u001B[0;32m/opt/homebrew/Caskroom/miniforge/base/envs/ml_39/lib/python3.9/site-packages/pytorch_lightning/loops/training_epoch_loop.py:133\u001B[0m, in \u001B[0;36m_TrainingEpochLoop.run\u001B[0;34m(self, data_fetcher)\u001B[0m\n\u001B[1;32m    131\u001B[0m \u001B[38;5;28;01mwhile\u001B[39;00m \u001B[38;5;129;01mnot\u001B[39;00m \u001B[38;5;28mself\u001B[39m\u001B[38;5;241m.\u001B[39mdone:\n\u001B[1;32m    132\u001B[0m     \u001B[38;5;28;01mtry\u001B[39;00m:\n\u001B[0;32m--> 133\u001B[0m         \u001B[38;5;28;43mself\u001B[39;49m\u001B[38;5;241;43m.\u001B[39;49m\u001B[43madvance\u001B[49m\u001B[43m(\u001B[49m\u001B[43mdata_fetcher\u001B[49m\u001B[43m)\u001B[49m\n\u001B[1;32m    134\u001B[0m         \u001B[38;5;28mself\u001B[39m\u001B[38;5;241m.\u001B[39mon_advance_end()\n\u001B[1;32m    135\u001B[0m         \u001B[38;5;28mself\u001B[39m\u001B[38;5;241m.\u001B[39m_restarting \u001B[38;5;241m=\u001B[39m \u001B[38;5;28;01mFalse\u001B[39;00m\n",
      "File \u001B[0;32m/opt/homebrew/Caskroom/miniforge/base/envs/ml_39/lib/python3.9/site-packages/pytorch_lightning/loops/training_epoch_loop.py:189\u001B[0m, in \u001B[0;36m_TrainingEpochLoop.advance\u001B[0;34m(self, data_fetcher)\u001B[0m\n\u001B[1;32m    186\u001B[0m \u001B[38;5;28mself\u001B[39m\u001B[38;5;241m.\u001B[39mval_loop\u001B[38;5;241m.\u001B[39mrestarting \u001B[38;5;241m=\u001B[39m \u001B[38;5;28;01mFalse\u001B[39;00m\n\u001B[1;32m    188\u001B[0m batch_idx \u001B[38;5;241m=\u001B[39m data_fetcher\u001B[38;5;241m.\u001B[39mfetched \u001B[38;5;28;01mif\u001B[39;00m \u001B[38;5;28misinstance\u001B[39m(data_fetcher, _DataLoaderIterDataFetcher) \u001B[38;5;28;01melse\u001B[39;00m \u001B[38;5;28mself\u001B[39m\u001B[38;5;241m.\u001B[39mbatch_idx \u001B[38;5;241m+\u001B[39m \u001B[38;5;241m1\u001B[39m\n\u001B[0;32m--> 189\u001B[0m batch \u001B[38;5;241m=\u001B[39m \u001B[38;5;28;43mnext\u001B[39;49m\u001B[43m(\u001B[49m\u001B[43mdata_fetcher\u001B[49m\u001B[43m)\u001B[49m\n\u001B[1;32m    190\u001B[0m \u001B[38;5;28mself\u001B[39m\u001B[38;5;241m.\u001B[39mbatch_progress\u001B[38;5;241m.\u001B[39mis_last_batch \u001B[38;5;241m=\u001B[39m data_fetcher\u001B[38;5;241m.\u001B[39mdone\n\u001B[1;32m    192\u001B[0m trainer \u001B[38;5;241m=\u001B[39m \u001B[38;5;28mself\u001B[39m\u001B[38;5;241m.\u001B[39mtrainer\n",
      "File \u001B[0;32m/opt/homebrew/Caskroom/miniforge/base/envs/ml_39/lib/python3.9/site-packages/pytorch_lightning/loops/fetchers.py:136\u001B[0m, in \u001B[0;36m_PrefetchDataFetcher.__next__\u001B[0;34m(self)\u001B[0m\n\u001B[1;32m    133\u001B[0m \u001B[38;5;28;01melif\u001B[39;00m \u001B[38;5;129;01mnot\u001B[39;00m \u001B[38;5;28mself\u001B[39m\u001B[38;5;241m.\u001B[39mdone:\n\u001B[1;32m    134\u001B[0m     \u001B[38;5;66;03m# this will run only when no pre-fetching was done.\u001B[39;00m\n\u001B[1;32m    135\u001B[0m     \u001B[38;5;28;01mtry\u001B[39;00m:\n\u001B[0;32m--> 136\u001B[0m         \u001B[38;5;28;43mself\u001B[39;49m\u001B[38;5;241;43m.\u001B[39;49m\u001B[43m_fetch_next_batch\u001B[49m\u001B[43m(\u001B[49m\u001B[38;5;28;43mself\u001B[39;49m\u001B[38;5;241;43m.\u001B[39;49m\u001B[43mdataloader_iter\u001B[49m\u001B[43m)\u001B[49m\n\u001B[1;32m    137\u001B[0m         \u001B[38;5;66;03m# consume the batch we just fetched\u001B[39;00m\n\u001B[1;32m    138\u001B[0m         batch \u001B[38;5;241m=\u001B[39m \u001B[38;5;28mself\u001B[39m\u001B[38;5;241m.\u001B[39mbatches\u001B[38;5;241m.\u001B[39mpop(\u001B[38;5;241m0\u001B[39m)\n",
      "File \u001B[0;32m/opt/homebrew/Caskroom/miniforge/base/envs/ml_39/lib/python3.9/site-packages/pytorch_lightning/loops/fetchers.py:150\u001B[0m, in \u001B[0;36m_PrefetchDataFetcher._fetch_next_batch\u001B[0;34m(self, iterator)\u001B[0m\n\u001B[1;32m    148\u001B[0m \u001B[38;5;28mself\u001B[39m\u001B[38;5;241m.\u001B[39m_start_profiler()\n\u001B[1;32m    149\u001B[0m \u001B[38;5;28;01mtry\u001B[39;00m:\n\u001B[0;32m--> 150\u001B[0m     batch \u001B[38;5;241m=\u001B[39m \u001B[38;5;28;43mnext\u001B[39;49m\u001B[43m(\u001B[49m\u001B[43miterator\u001B[49m\u001B[43m)\u001B[49m\n\u001B[1;32m    151\u001B[0m \u001B[38;5;28;01mfinally\u001B[39;00m:\n\u001B[1;32m    152\u001B[0m     \u001B[38;5;28mself\u001B[39m\u001B[38;5;241m.\u001B[39m_stop_profiler()\n",
      "File \u001B[0;32m/opt/homebrew/Caskroom/miniforge/base/envs/ml_39/lib/python3.9/site-packages/pytorch_lightning/utilities/combined_loader.py:276\u001B[0m, in \u001B[0;36mCombinedLoader.__next__\u001B[0;34m(self)\u001B[0m\n\u001B[1;32m    274\u001B[0m \u001B[38;5;28;01mdef\u001B[39;00m \u001B[38;5;21m__next__\u001B[39m(\u001B[38;5;28mself\u001B[39m) \u001B[38;5;241m-\u001B[39m\u001B[38;5;241m>\u001B[39m Any:\n\u001B[1;32m    275\u001B[0m     \u001B[38;5;28;01massert\u001B[39;00m \u001B[38;5;28mself\u001B[39m\u001B[38;5;241m.\u001B[39m_iterator \u001B[38;5;129;01mis\u001B[39;00m \u001B[38;5;129;01mnot\u001B[39;00m \u001B[38;5;28;01mNone\u001B[39;00m\n\u001B[0;32m--> 276\u001B[0m     out \u001B[38;5;241m=\u001B[39m \u001B[38;5;28;43mnext\u001B[39;49m\u001B[43m(\u001B[49m\u001B[38;5;28;43mself\u001B[39;49m\u001B[38;5;241;43m.\u001B[39;49m\u001B[43m_iterator\u001B[49m\u001B[43m)\u001B[49m\n\u001B[1;32m    277\u001B[0m     \u001B[38;5;28;01mif\u001B[39;00m \u001B[38;5;28misinstance\u001B[39m(\u001B[38;5;28mself\u001B[39m\u001B[38;5;241m.\u001B[39m_iterator, _Sequential):\n\u001B[1;32m    278\u001B[0m         \u001B[38;5;28;01mreturn\u001B[39;00m out\n",
      "File \u001B[0;32m/opt/homebrew/Caskroom/miniforge/base/envs/ml_39/lib/python3.9/site-packages/pytorch_lightning/utilities/combined_loader.py:64\u001B[0m, in \u001B[0;36m_MaxSizeCycle.__next__\u001B[0;34m(self)\u001B[0m\n\u001B[1;32m     62\u001B[0m \u001B[38;5;28;01mfor\u001B[39;00m i \u001B[38;5;129;01min\u001B[39;00m \u001B[38;5;28mrange\u001B[39m(n):\n\u001B[1;32m     63\u001B[0m     \u001B[38;5;28;01mtry\u001B[39;00m:\n\u001B[0;32m---> 64\u001B[0m         out[i] \u001B[38;5;241m=\u001B[39m \u001B[38;5;28;43mnext\u001B[39;49m\u001B[43m(\u001B[49m\u001B[38;5;28;43mself\u001B[39;49m\u001B[38;5;241;43m.\u001B[39;49m\u001B[43miterators\u001B[49m\u001B[43m[\u001B[49m\u001B[43mi\u001B[49m\u001B[43m]\u001B[49m\u001B[43m)\u001B[49m\n\u001B[1;32m     65\u001B[0m     \u001B[38;5;28;01mexcept\u001B[39;00m \u001B[38;5;167;01mStopIteration\u001B[39;00m:\n\u001B[1;32m     66\u001B[0m         \u001B[38;5;28mself\u001B[39m\u001B[38;5;241m.\u001B[39m_consumed[i] \u001B[38;5;241m=\u001B[39m \u001B[38;5;28;01mTrue\u001B[39;00m\n",
      "File \u001B[0;32m/opt/homebrew/Caskroom/miniforge/base/envs/ml_39/lib/python3.9/site-packages/torch/utils/data/dataloader.py:634\u001B[0m, in \u001B[0;36m_BaseDataLoaderIter.__next__\u001B[0;34m(self)\u001B[0m\n\u001B[1;32m    631\u001B[0m \u001B[38;5;28;01mif\u001B[39;00m \u001B[38;5;28mself\u001B[39m\u001B[38;5;241m.\u001B[39m_sampler_iter \u001B[38;5;129;01mis\u001B[39;00m \u001B[38;5;28;01mNone\u001B[39;00m:\n\u001B[1;32m    632\u001B[0m     \u001B[38;5;66;03m# TODO(https://github.com/pytorch/pytorch/issues/76750)\u001B[39;00m\n\u001B[1;32m    633\u001B[0m     \u001B[38;5;28mself\u001B[39m\u001B[38;5;241m.\u001B[39m_reset()  \u001B[38;5;66;03m# type: ignore[call-arg]\u001B[39;00m\n\u001B[0;32m--> 634\u001B[0m data \u001B[38;5;241m=\u001B[39m \u001B[38;5;28;43mself\u001B[39;49m\u001B[38;5;241;43m.\u001B[39;49m\u001B[43m_next_data\u001B[49m\u001B[43m(\u001B[49m\u001B[43m)\u001B[49m\n\u001B[1;32m    635\u001B[0m \u001B[38;5;28mself\u001B[39m\u001B[38;5;241m.\u001B[39m_num_yielded \u001B[38;5;241m+\u001B[39m\u001B[38;5;241m=\u001B[39m \u001B[38;5;241m1\u001B[39m\n\u001B[1;32m    636\u001B[0m \u001B[38;5;28;01mif\u001B[39;00m \u001B[38;5;28mself\u001B[39m\u001B[38;5;241m.\u001B[39m_dataset_kind \u001B[38;5;241m==\u001B[39m _DatasetKind\u001B[38;5;241m.\u001B[39mIterable \u001B[38;5;129;01mand\u001B[39;00m \\\n\u001B[1;32m    637\u001B[0m         \u001B[38;5;28mself\u001B[39m\u001B[38;5;241m.\u001B[39m_IterableDataset_len_called \u001B[38;5;129;01mis\u001B[39;00m \u001B[38;5;129;01mnot\u001B[39;00m \u001B[38;5;28;01mNone\u001B[39;00m \u001B[38;5;129;01mand\u001B[39;00m \\\n\u001B[1;32m    638\u001B[0m         \u001B[38;5;28mself\u001B[39m\u001B[38;5;241m.\u001B[39m_num_yielded \u001B[38;5;241m>\u001B[39m \u001B[38;5;28mself\u001B[39m\u001B[38;5;241m.\u001B[39m_IterableDataset_len_called:\n",
      "File \u001B[0;32m/opt/homebrew/Caskroom/miniforge/base/envs/ml_39/lib/python3.9/site-packages/torch/utils/data/dataloader.py:1329\u001B[0m, in \u001B[0;36m_MultiProcessingDataLoaderIter._next_data\u001B[0;34m(self)\u001B[0m\n\u001B[1;32m   1326\u001B[0m     \u001B[38;5;28;01mreturn\u001B[39;00m \u001B[38;5;28mself\u001B[39m\u001B[38;5;241m.\u001B[39m_process_data(data)\n\u001B[1;32m   1328\u001B[0m \u001B[38;5;28;01massert\u001B[39;00m \u001B[38;5;129;01mnot\u001B[39;00m \u001B[38;5;28mself\u001B[39m\u001B[38;5;241m.\u001B[39m_shutdown \u001B[38;5;129;01mand\u001B[39;00m \u001B[38;5;28mself\u001B[39m\u001B[38;5;241m.\u001B[39m_tasks_outstanding \u001B[38;5;241m>\u001B[39m \u001B[38;5;241m0\u001B[39m\n\u001B[0;32m-> 1329\u001B[0m idx, data \u001B[38;5;241m=\u001B[39m \u001B[38;5;28;43mself\u001B[39;49m\u001B[38;5;241;43m.\u001B[39;49m\u001B[43m_get_data\u001B[49m\u001B[43m(\u001B[49m\u001B[43m)\u001B[49m\n\u001B[1;32m   1330\u001B[0m \u001B[38;5;28mself\u001B[39m\u001B[38;5;241m.\u001B[39m_tasks_outstanding \u001B[38;5;241m-\u001B[39m\u001B[38;5;241m=\u001B[39m \u001B[38;5;241m1\u001B[39m\n\u001B[1;32m   1331\u001B[0m \u001B[38;5;28;01mif\u001B[39;00m \u001B[38;5;28mself\u001B[39m\u001B[38;5;241m.\u001B[39m_dataset_kind \u001B[38;5;241m==\u001B[39m _DatasetKind\u001B[38;5;241m.\u001B[39mIterable:\n\u001B[1;32m   1332\u001B[0m     \u001B[38;5;66;03m# Check for _IterableDatasetStopIteration\u001B[39;00m\n",
      "File \u001B[0;32m/opt/homebrew/Caskroom/miniforge/base/envs/ml_39/lib/python3.9/site-packages/torch/utils/data/dataloader.py:1295\u001B[0m, in \u001B[0;36m_MultiProcessingDataLoaderIter._get_data\u001B[0;34m(self)\u001B[0m\n\u001B[1;32m   1291\u001B[0m     \u001B[38;5;66;03m# In this case, `self._data_queue` is a `queue.Queue`,. But we don't\u001B[39;00m\n\u001B[1;32m   1292\u001B[0m     \u001B[38;5;66;03m# need to call `.task_done()` because we don't use `.join()`.\u001B[39;00m\n\u001B[1;32m   1293\u001B[0m \u001B[38;5;28;01melse\u001B[39;00m:\n\u001B[1;32m   1294\u001B[0m     \u001B[38;5;28;01mwhile\u001B[39;00m \u001B[38;5;28;01mTrue\u001B[39;00m:\n\u001B[0;32m-> 1295\u001B[0m         success, data \u001B[38;5;241m=\u001B[39m \u001B[38;5;28;43mself\u001B[39;49m\u001B[38;5;241;43m.\u001B[39;49m\u001B[43m_try_get_data\u001B[49m\u001B[43m(\u001B[49m\u001B[43m)\u001B[49m\n\u001B[1;32m   1296\u001B[0m         \u001B[38;5;28;01mif\u001B[39;00m success:\n\u001B[1;32m   1297\u001B[0m             \u001B[38;5;28;01mreturn\u001B[39;00m data\n",
      "File \u001B[0;32m/opt/homebrew/Caskroom/miniforge/base/envs/ml_39/lib/python3.9/site-packages/torch/utils/data/dataloader.py:1146\u001B[0m, in \u001B[0;36m_MultiProcessingDataLoaderIter._try_get_data\u001B[0;34m(self, timeout)\u001B[0m\n\u001B[1;32m   1144\u001B[0m \u001B[38;5;28;01mif\u001B[39;00m \u001B[38;5;28mlen\u001B[39m(failed_workers) \u001B[38;5;241m>\u001B[39m \u001B[38;5;241m0\u001B[39m:\n\u001B[1;32m   1145\u001B[0m     pids_str \u001B[38;5;241m=\u001B[39m \u001B[38;5;124m'\u001B[39m\u001B[38;5;124m, \u001B[39m\u001B[38;5;124m'\u001B[39m\u001B[38;5;241m.\u001B[39mjoin(\u001B[38;5;28mstr\u001B[39m(w\u001B[38;5;241m.\u001B[39mpid) \u001B[38;5;28;01mfor\u001B[39;00m w \u001B[38;5;129;01min\u001B[39;00m failed_workers)\n\u001B[0;32m-> 1146\u001B[0m     \u001B[38;5;28;01mraise\u001B[39;00m \u001B[38;5;167;01mRuntimeError\u001B[39;00m(\u001B[38;5;124m'\u001B[39m\u001B[38;5;124mDataLoader worker (pid(s) \u001B[39m\u001B[38;5;132;01m{}\u001B[39;00m\u001B[38;5;124m) exited unexpectedly\u001B[39m\u001B[38;5;124m'\u001B[39m\u001B[38;5;241m.\u001B[39mformat(pids_str)) \u001B[38;5;28;01mfrom\u001B[39;00m \u001B[38;5;21;01me\u001B[39;00m\n\u001B[1;32m   1147\u001B[0m \u001B[38;5;28;01mif\u001B[39;00m \u001B[38;5;28misinstance\u001B[39m(e, queue\u001B[38;5;241m.\u001B[39mEmpty):\n\u001B[1;32m   1148\u001B[0m     \u001B[38;5;28;01mreturn\u001B[39;00m (\u001B[38;5;28;01mFalse\u001B[39;00m, \u001B[38;5;28;01mNone\u001B[39;00m)\n",
      "\u001B[0;31mRuntimeError\u001B[0m: DataLoader worker (pid(s) 68495, 68497, 68502) exited unexpectedly"
     ]
    }
   ],
   "source": [
    "trainer = pl.Trainer(accelerator=\"mps\", max_epochs=epochs, devices=1)\n",
    "trainer.fit(model, dm)"
   ],
   "metadata": {
    "collapsed": false,
    "ExecuteTime": {
     "end_time": "2023-11-26T12:29:38.715756Z",
     "start_time": "2023-11-26T12:02:20.645568Z"
    }
   }
  },
  {
   "cell_type": "code",
   "execution_count": null,
   "outputs": [],
   "source": [],
   "metadata": {
    "collapsed": false
   }
  }
 ],
 "metadata": {
  "kernelspec": {
   "display_name": "Python 3",
   "language": "python",
   "name": "python3"
  },
  "language_info": {
   "codemirror_mode": {
    "name": "ipython",
    "version": 2
   },
   "file_extension": ".py",
   "mimetype": "text/x-python",
   "name": "python",
   "nbconvert_exporter": "python",
   "pygments_lexer": "ipython2",
   "version": "2.7.6"
  }
 },
 "nbformat": 4,
 "nbformat_minor": 0
}
